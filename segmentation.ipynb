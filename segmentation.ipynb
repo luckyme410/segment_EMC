{
  "nbformat": 4,
  "nbformat_minor": 0,
  "metadata": {
    "colab": {
      "provenance": [],
      "authorship_tag": "ABX9TyMIU58adodSle3JRdbPHcuY",
      "include_colab_link": true
    },
    "kernelspec": {
      "name": "python3",
      "display_name": "Python 3"
    },
    "language_info": {
      "name": "python"
    }
  },
  "cells": [
    {
      "cell_type": "markdown",
      "metadata": {
        "id": "view-in-github",
        "colab_type": "text"
      },
      "source": [
        "<a href=\"https://colab.research.google.com/github/luckyme410/segment_EMC/blob/main/segmentation.ipynb\" target=\"_parent\"><img src=\"https://colab.research.google.com/assets/colab-badge.svg\" alt=\"Open In Colab\"/></a>"
      ]
    },
    {
      "cell_type": "markdown",
      "source": [
        "Сегментируем клиентов банка, используя их личные данные такие, как:\n",
        "пол, возраст клиента, уровень образования, сколько лет является клиентом банка, число депозитов, общая сумма вкладов."
      ],
      "metadata": {
        "id": "rNsC2IzKX5Fq"
      }
    },
    {
      "cell_type": "code",
      "execution_count": null,
      "metadata": {
        "id": "A1VkVwbN0bwF"
      },
      "outputs": [],
      "source": [
        "import numpy as np\n",
        "import pandas as pd"
      ]
    },
    {
      "cell_type": "markdown",
      "source": [
        "### Генерация данных"
      ],
      "metadata": {
        "id": "2didV19vJiw5"
      }
    },
    {
      "cell_type": "code",
      "source": [
        "# пол клиента:\n",
        "gender = ['муж', 'жен',]\n",
        "\n",
        "# уровни образования:\n",
        "education = ['сред', 'спец', 'неок высш', 'высш', 'другое']\n",
        "edu_frac = np.array([0.15, 0.23, 0.2, 0.35, 0.07])  # доли\n",
        "\n",
        "# возрастной диапазон:\n",
        "ages = np.arange(16, 88)\n",
        "\n",
        "\n",
        "# диапазон суммы вкладов (руб):\n",
        "total_sum = np.arange(0, 1e8)\n"
      ],
      "metadata": {
        "id": "rXlPqvr60kP9"
      },
      "execution_count": null,
      "outputs": []
    },
    {
      "cell_type": "code",
      "source": [
        "# имя и фамилия для муж.:\n",
        "name_male = ['Иван', \"Алексей\", \"Александр\",\n",
        "             \"Дмитрий\", \"Никита\", \"Константин\"\n",
        "]\n",
        "\n",
        "lname_male = [\"Смирнов\", \"Иванов\", \"Кузнецов\",\n",
        "              \"Соколов\", \"Попов\", \"Лебедев\",\n",
        "              \"Козлов\", \"Новиков\", \"Морозов\",\n",
        "              'Петров', \"Волков\", 'Соловьёв',\n",
        "              \"Васильев\", \"Зайцев\", \"Павлов\",\n",
        "              'Семёнов', \"Голубев\", \"Виноградов\",\n",
        "              \"Богданов\", \"Воробьёв\"\n",
        "]\n",
        "\n",
        "\n",
        "# имя и фамилия для жен.\n",
        "name_female = ['Анастасия', \"Елена\", \"Анна\",\n",
        "               \"Дарья\", \"Мария\", \"София\", 'Наталья',\n",
        "               \"Екатерина\", \"Юлия\", \"Ирина\"\n",
        "]\n",
        "\n",
        "lname_female = [s + 'а' for s in lname_male]"
      ],
      "metadata": {
        "id": "IRhalevf2XVW"
      },
      "execution_count": null,
      "outputs": []
    },
    {
      "cell_type": "markdown",
      "source": [
        "Для каждого клиента генерим его ФИО, пол, возраст итд:"
      ],
      "metadata": {
        "id": "LfxDAehvZg_C"
      }
    },
    {
      "cell_type": "code",
      "source": [
        "# кол-во клиентов\n",
        "num_clients = 1000\n",
        "\n",
        "np.random.seed(10)\n",
        "\n",
        "\n",
        "col_gender = np.random.choice(gender,\n",
        "                              size=num_clients ,\n",
        "                              replace=True\n",
        "                             )\n",
        "\n",
        "\n",
        "col_education = np.random.choice(education,\n",
        "                                 size=num_clients,\n",
        "                                 replace=True,\n",
        "                                 p=edu_frac)\n",
        "\n",
        "\n",
        "mu = np.mean(ages)\n",
        "std = np.std(ages)/3\n",
        "col_age = np.clip(np.random.normal(mu, std, size=num_clients), a_min=ages.min(),\n",
        "                  a_max=ages.max())\n",
        "col_age = np.round(col_age)\n",
        "\n",
        "\n",
        "# число депозитов в банке:\n",
        "lam = 0.75\n",
        "col_deposits = np.random.poisson(lam, size=num_clients)\n",
        "\n",
        "\n",
        "lam = 2.0\n",
        "col_years = np.round(np.random.exponential(lam, size=num_clients))\n",
        "\n",
        "\n",
        "# сумма всех вкладов:\n",
        "mu = np.mean(total_sum)\n",
        "std = np.mean(total_sum)\n",
        "col_depsosit_sum = np.clip(np.random.normal(mu, std, size=num_clients),\n",
        "                           a_min=total_sum.min(),\n",
        "                           a_max=2*total_sum.max())\n",
        "\n",
        "col_depsosit_sum = 1*(col_deposits != 0) * col_depsosit_sum\n",
        "\n",
        "\n",
        "# ФИО:\n",
        "def get_name(sex):\n",
        "  if sex=='муж':\n",
        "    name =  np.random.choice(lname_male) + ' ' + np.random.choice(name_male)\n",
        "  else:\n",
        "    name = np.random.choice(lname_female) + ' ' + np.random.choice(name_female)\n",
        "\n",
        "  return name\n",
        "\n",
        "col_clients = list(map(lambda x: get_name(x) , col_gender))"
      ],
      "metadata": {
        "id": "JmmAdVBj4XBb"
      },
      "execution_count": null,
      "outputs": []
    },
    {
      "cell_type": "code",
      "source": [],
      "metadata": {
        "id": "yGebRxQT87PY"
      },
      "execution_count": null,
      "outputs": []
    },
    {
      "cell_type": "code",
      "source": [
        "voc = {\"client\": col_clients,\n",
        "       'gender': col_gender,\n",
        "       'age': col_age,\n",
        "       'education': col_education,\n",
        "       'num_years': col_years,\n",
        "       'num_deposits': col_deposits,\n",
        "       'total_deposits_sum': col_depsosit_sum\n",
        "}\n",
        "\n",
        "df = pd.DataFrame(voc)"
      ],
      "metadata": {
        "id": "APxGh8bX-S2O"
      },
      "execution_count": null,
      "outputs": []
    },
    {
      "cell_type": "code",
      "source": [
        "df.head()"
      ],
      "metadata": {
        "colab": {
          "base_uri": "https://localhost:8080/",
          "height": 206
        },
        "id": "MD0g2pBZ2BNh",
        "outputId": "10de1770-5a39-4158-a6a9-73ca7fd3567f"
      },
      "execution_count": null,
      "outputs": [
        {
          "output_type": "execute_result",
          "data": {
            "text/plain": [
              "           client gender   age education  num_years  num_deposits  \\\n",
              "0   Семёнова Юлия    жен  62.0      сред        2.0             0   \n",
              "1   Зайцева Ирина    жен  52.0      сред        3.0             1   \n",
              "2  Морозов Никита    муж  52.0      спец        0.0             1   \n",
              "3  Морозова Ирина    жен  42.0      сред        3.0             0   \n",
              "4  Смирнов Никита    муж  51.0      высш        1.0             1   \n",
              "\n",
              "   total_deposits_sum  \n",
              "0        0.000000e+00  \n",
              "1        2.302557e+07  \n",
              "2        7.504340e+07  \n",
              "3        0.000000e+00  \n",
              "4        0.000000e+00  "
            ],
            "text/html": [
              "\n",
              "  <div id=\"df-e59bd80e-453f-41aa-9d2f-360ac3583259\" class=\"colab-df-container\">\n",
              "    <div>\n",
              "<style scoped>\n",
              "    .dataframe tbody tr th:only-of-type {\n",
              "        vertical-align: middle;\n",
              "    }\n",
              "\n",
              "    .dataframe tbody tr th {\n",
              "        vertical-align: top;\n",
              "    }\n",
              "\n",
              "    .dataframe thead th {\n",
              "        text-align: right;\n",
              "    }\n",
              "</style>\n",
              "<table border=\"1\" class=\"dataframe\">\n",
              "  <thead>\n",
              "    <tr style=\"text-align: right;\">\n",
              "      <th></th>\n",
              "      <th>client</th>\n",
              "      <th>gender</th>\n",
              "      <th>age</th>\n",
              "      <th>education</th>\n",
              "      <th>num_years</th>\n",
              "      <th>num_deposits</th>\n",
              "      <th>total_deposits_sum</th>\n",
              "    </tr>\n",
              "  </thead>\n",
              "  <tbody>\n",
              "    <tr>\n",
              "      <th>0</th>\n",
              "      <td>Семёнова Юлия</td>\n",
              "      <td>жен</td>\n",
              "      <td>62.0</td>\n",
              "      <td>сред</td>\n",
              "      <td>2.0</td>\n",
              "      <td>0</td>\n",
              "      <td>0.000000e+00</td>\n",
              "    </tr>\n",
              "    <tr>\n",
              "      <th>1</th>\n",
              "      <td>Зайцева Ирина</td>\n",
              "      <td>жен</td>\n",
              "      <td>52.0</td>\n",
              "      <td>сред</td>\n",
              "      <td>3.0</td>\n",
              "      <td>1</td>\n",
              "      <td>2.302557e+07</td>\n",
              "    </tr>\n",
              "    <tr>\n",
              "      <th>2</th>\n",
              "      <td>Морозов Никита</td>\n",
              "      <td>муж</td>\n",
              "      <td>52.0</td>\n",
              "      <td>спец</td>\n",
              "      <td>0.0</td>\n",
              "      <td>1</td>\n",
              "      <td>7.504340e+07</td>\n",
              "    </tr>\n",
              "    <tr>\n",
              "      <th>3</th>\n",
              "      <td>Морозова Ирина</td>\n",
              "      <td>жен</td>\n",
              "      <td>42.0</td>\n",
              "      <td>сред</td>\n",
              "      <td>3.0</td>\n",
              "      <td>0</td>\n",
              "      <td>0.000000e+00</td>\n",
              "    </tr>\n",
              "    <tr>\n",
              "      <th>4</th>\n",
              "      <td>Смирнов Никита</td>\n",
              "      <td>муж</td>\n",
              "      <td>51.0</td>\n",
              "      <td>высш</td>\n",
              "      <td>1.0</td>\n",
              "      <td>1</td>\n",
              "      <td>0.000000e+00</td>\n",
              "    </tr>\n",
              "  </tbody>\n",
              "</table>\n",
              "</div>\n",
              "    <div class=\"colab-df-buttons\">\n",
              "\n",
              "  <div class=\"colab-df-container\">\n",
              "    <button class=\"colab-df-convert\" onclick=\"convertToInteractive('df-e59bd80e-453f-41aa-9d2f-360ac3583259')\"\n",
              "            title=\"Convert this dataframe to an interactive table.\"\n",
              "            style=\"display:none;\">\n",
              "\n",
              "  <svg xmlns=\"http://www.w3.org/2000/svg\" height=\"24px\" viewBox=\"0 -960 960 960\">\n",
              "    <path d=\"M120-120v-720h720v720H120Zm60-500h600v-160H180v160Zm220 220h160v-160H400v160Zm0 220h160v-160H400v160ZM180-400h160v-160H180v160Zm440 0h160v-160H620v160ZM180-180h160v-160H180v160Zm440 0h160v-160H620v160Z\"/>\n",
              "  </svg>\n",
              "    </button>\n",
              "\n",
              "  <style>\n",
              "    .colab-df-container {\n",
              "      display:flex;\n",
              "      gap: 12px;\n",
              "    }\n",
              "\n",
              "    .colab-df-convert {\n",
              "      background-color: #E8F0FE;\n",
              "      border: none;\n",
              "      border-radius: 50%;\n",
              "      cursor: pointer;\n",
              "      display: none;\n",
              "      fill: #1967D2;\n",
              "      height: 32px;\n",
              "      padding: 0 0 0 0;\n",
              "      width: 32px;\n",
              "    }\n",
              "\n",
              "    .colab-df-convert:hover {\n",
              "      background-color: #E2EBFA;\n",
              "      box-shadow: 0px 1px 2px rgba(60, 64, 67, 0.3), 0px 1px 3px 1px rgba(60, 64, 67, 0.15);\n",
              "      fill: #174EA6;\n",
              "    }\n",
              "\n",
              "    .colab-df-buttons div {\n",
              "      margin-bottom: 4px;\n",
              "    }\n",
              "\n",
              "    [theme=dark] .colab-df-convert {\n",
              "      background-color: #3B4455;\n",
              "      fill: #D2E3FC;\n",
              "    }\n",
              "\n",
              "    [theme=dark] .colab-df-convert:hover {\n",
              "      background-color: #434B5C;\n",
              "      box-shadow: 0px 1px 3px 1px rgba(0, 0, 0, 0.15);\n",
              "      filter: drop-shadow(0px 1px 2px rgba(0, 0, 0, 0.3));\n",
              "      fill: #FFFFFF;\n",
              "    }\n",
              "  </style>\n",
              "\n",
              "    <script>\n",
              "      const buttonEl =\n",
              "        document.querySelector('#df-e59bd80e-453f-41aa-9d2f-360ac3583259 button.colab-df-convert');\n",
              "      buttonEl.style.display =\n",
              "        google.colab.kernel.accessAllowed ? 'block' : 'none';\n",
              "\n",
              "      async function convertToInteractive(key) {\n",
              "        const element = document.querySelector('#df-e59bd80e-453f-41aa-9d2f-360ac3583259');\n",
              "        const dataTable =\n",
              "          await google.colab.kernel.invokeFunction('convertToInteractive',\n",
              "                                                    [key], {});\n",
              "        if (!dataTable) return;\n",
              "\n",
              "        const docLinkHtml = 'Like what you see? Visit the ' +\n",
              "          '<a target=\"_blank\" href=https://colab.research.google.com/notebooks/data_table.ipynb>data table notebook</a>'\n",
              "          + ' to learn more about interactive tables.';\n",
              "        element.innerHTML = '';\n",
              "        dataTable['output_type'] = 'display_data';\n",
              "        await google.colab.output.renderOutput(dataTable, element);\n",
              "        const docLink = document.createElement('div');\n",
              "        docLink.innerHTML = docLinkHtml;\n",
              "        element.appendChild(docLink);\n",
              "      }\n",
              "    </script>\n",
              "  </div>\n",
              "\n",
              "\n",
              "<div id=\"df-badd0dd0-09e0-47bc-92ed-5de6bd6d86dc\">\n",
              "  <button class=\"colab-df-quickchart\" onclick=\"quickchart('df-badd0dd0-09e0-47bc-92ed-5de6bd6d86dc')\"\n",
              "            title=\"Suggest charts\"\n",
              "            style=\"display:none;\">\n",
              "\n",
              "<svg xmlns=\"http://www.w3.org/2000/svg\" height=\"24px\"viewBox=\"0 0 24 24\"\n",
              "     width=\"24px\">\n",
              "    <g>\n",
              "        <path d=\"M19 3H5c-1.1 0-2 .9-2 2v14c0 1.1.9 2 2 2h14c1.1 0 2-.9 2-2V5c0-1.1-.9-2-2-2zM9 17H7v-7h2v7zm4 0h-2V7h2v10zm4 0h-2v-4h2v4z\"/>\n",
              "    </g>\n",
              "</svg>\n",
              "  </button>\n",
              "\n",
              "<style>\n",
              "  .colab-df-quickchart {\n",
              "      --bg-color: #E8F0FE;\n",
              "      --fill-color: #1967D2;\n",
              "      --hover-bg-color: #E2EBFA;\n",
              "      --hover-fill-color: #174EA6;\n",
              "      --disabled-fill-color: #AAA;\n",
              "      --disabled-bg-color: #DDD;\n",
              "  }\n",
              "\n",
              "  [theme=dark] .colab-df-quickchart {\n",
              "      --bg-color: #3B4455;\n",
              "      --fill-color: #D2E3FC;\n",
              "      --hover-bg-color: #434B5C;\n",
              "      --hover-fill-color: #FFFFFF;\n",
              "      --disabled-bg-color: #3B4455;\n",
              "      --disabled-fill-color: #666;\n",
              "  }\n",
              "\n",
              "  .colab-df-quickchart {\n",
              "    background-color: var(--bg-color);\n",
              "    border: none;\n",
              "    border-radius: 50%;\n",
              "    cursor: pointer;\n",
              "    display: none;\n",
              "    fill: var(--fill-color);\n",
              "    height: 32px;\n",
              "    padding: 0;\n",
              "    width: 32px;\n",
              "  }\n",
              "\n",
              "  .colab-df-quickchart:hover {\n",
              "    background-color: var(--hover-bg-color);\n",
              "    box-shadow: 0 1px 2px rgba(60, 64, 67, 0.3), 0 1px 3px 1px rgba(60, 64, 67, 0.15);\n",
              "    fill: var(--button-hover-fill-color);\n",
              "  }\n",
              "\n",
              "  .colab-df-quickchart-complete:disabled,\n",
              "  .colab-df-quickchart-complete:disabled:hover {\n",
              "    background-color: var(--disabled-bg-color);\n",
              "    fill: var(--disabled-fill-color);\n",
              "    box-shadow: none;\n",
              "  }\n",
              "\n",
              "  .colab-df-spinner {\n",
              "    border: 2px solid var(--fill-color);\n",
              "    border-color: transparent;\n",
              "    border-bottom-color: var(--fill-color);\n",
              "    animation:\n",
              "      spin 1s steps(1) infinite;\n",
              "  }\n",
              "\n",
              "  @keyframes spin {\n",
              "    0% {\n",
              "      border-color: transparent;\n",
              "      border-bottom-color: var(--fill-color);\n",
              "      border-left-color: var(--fill-color);\n",
              "    }\n",
              "    20% {\n",
              "      border-color: transparent;\n",
              "      border-left-color: var(--fill-color);\n",
              "      border-top-color: var(--fill-color);\n",
              "    }\n",
              "    30% {\n",
              "      border-color: transparent;\n",
              "      border-left-color: var(--fill-color);\n",
              "      border-top-color: var(--fill-color);\n",
              "      border-right-color: var(--fill-color);\n",
              "    }\n",
              "    40% {\n",
              "      border-color: transparent;\n",
              "      border-right-color: var(--fill-color);\n",
              "      border-top-color: var(--fill-color);\n",
              "    }\n",
              "    60% {\n",
              "      border-color: transparent;\n",
              "      border-right-color: var(--fill-color);\n",
              "    }\n",
              "    80% {\n",
              "      border-color: transparent;\n",
              "      border-right-color: var(--fill-color);\n",
              "      border-bottom-color: var(--fill-color);\n",
              "    }\n",
              "    90% {\n",
              "      border-color: transparent;\n",
              "      border-bottom-color: var(--fill-color);\n",
              "    }\n",
              "  }\n",
              "</style>\n",
              "\n",
              "  <script>\n",
              "    async function quickchart(key) {\n",
              "      const quickchartButtonEl =\n",
              "        document.querySelector('#' + key + ' button');\n",
              "      quickchartButtonEl.disabled = true;  // To prevent multiple clicks.\n",
              "      quickchartButtonEl.classList.add('colab-df-spinner');\n",
              "      try {\n",
              "        const charts = await google.colab.kernel.invokeFunction(\n",
              "            'suggestCharts', [key], {});\n",
              "      } catch (error) {\n",
              "        console.error('Error during call to suggestCharts:', error);\n",
              "      }\n",
              "      quickchartButtonEl.classList.remove('colab-df-spinner');\n",
              "      quickchartButtonEl.classList.add('colab-df-quickchart-complete');\n",
              "    }\n",
              "    (() => {\n",
              "      let quickchartButtonEl =\n",
              "        document.querySelector('#df-badd0dd0-09e0-47bc-92ed-5de6bd6d86dc button');\n",
              "      quickchartButtonEl.style.display =\n",
              "        google.colab.kernel.accessAllowed ? 'block' : 'none';\n",
              "    })();\n",
              "  </script>\n",
              "</div>\n",
              "    </div>\n",
              "  </div>\n"
            ],
            "application/vnd.google.colaboratory.intrinsic+json": {
              "type": "dataframe",
              "variable_name": "df",
              "summary": "{\n  \"name\": \"df\",\n  \"rows\": 1000,\n  \"fields\": [\n    {\n      \"column\": \"client\",\n      \"properties\": {\n        \"dtype\": \"category\",\n        \"num_unique_values\": 304,\n        \"samples\": [\n          \"\\u041f\\u0430\\u0432\\u043b\\u043e\\u0432 \\u0410\\u043b\\u0435\\u043a\\u0441\\u0430\\u043d\\u0434\\u0440\",\n          \"\\u041b\\u0435\\u0431\\u0435\\u0434\\u0435\\u0432 \\u0414\\u043c\\u0438\\u0442\\u0440\\u0438\\u0439\",\n          \"\\u0421\\u043e\\u043b\\u043e\\u0432\\u044c\\u0451\\u0432\\u0430 \\u0410\\u043d\\u0430\\u0441\\u0442\\u0430\\u0441\\u0438\\u044f\"\n        ],\n        \"semantic_type\": \"\",\n        \"description\": \"\"\n      }\n    },\n    {\n      \"column\": \"gender\",\n      \"properties\": {\n        \"dtype\": \"category\",\n        \"num_unique_values\": 2,\n        \"samples\": [\n          \"\\u043c\\u0443\\u0436\",\n          \"\\u0436\\u0435\\u043d\"\n        ],\n        \"semantic_type\": \"\",\n        \"description\": \"\"\n      }\n    },\n    {\n      \"column\": \"age\",\n      \"properties\": {\n        \"dtype\": \"number\",\n        \"std\": 6.7938893081895255,\n        \"min\": 30.0,\n        \"max\": 71.0,\n        \"num_unique_values\": 38,\n        \"samples\": [\n          34.0,\n          61.0\n        ],\n        \"semantic_type\": \"\",\n        \"description\": \"\"\n      }\n    },\n    {\n      \"column\": \"education\",\n      \"properties\": {\n        \"dtype\": \"category\",\n        \"num_unique_values\": 5,\n        \"samples\": [\n          \"\\u0441\\u043f\\u0435\\u0446\",\n          \"\\u0434\\u0440\\u0443\\u0433\\u043e\\u0435\"\n        ],\n        \"semantic_type\": \"\",\n        \"description\": \"\"\n      }\n    },\n    {\n      \"column\": \"num_years\",\n      \"properties\": {\n        \"dtype\": \"number\",\n        \"std\": 1.9347698401448952,\n        \"min\": 0.0,\n        \"max\": 13.0,\n        \"num_unique_values\": 13,\n        \"samples\": [\n          11.0,\n          7.0\n        ],\n        \"semantic_type\": \"\",\n        \"description\": \"\"\n      }\n    },\n    {\n      \"column\": \"num_deposits\",\n      \"properties\": {\n        \"dtype\": \"number\",\n        \"std\": 0,\n        \"min\": 0,\n        \"max\": 4,\n        \"num_unique_values\": 5,\n        \"samples\": [\n          1,\n          4\n        ],\n        \"semantic_type\": \"\",\n        \"description\": \"\"\n      }\n    },\n    {\n      \"column\": \"total_deposits_sum\",\n      \"properties\": {\n        \"dtype\": \"number\",\n        \"std\": 38915880.50353442,\n        \"min\": 0.0,\n        \"max\": 199999998.0,\n        \"num_unique_values\": 427,\n        \"samples\": [\n          104512653.84719613,\n          85029552.06744084\n        ],\n        \"semantic_type\": \"\",\n        \"description\": \"\"\n      }\n    }\n  ]\n}"
            }
          },
          "metadata": {},
          "execution_count": 6
        }
      ]
    },
    {
      "cell_type": "markdown",
      "source": [
        "Сохраним данные в excel формате:"
      ],
      "metadata": {
        "id": "cl0Wq22maFNp"
      }
    },
    {
      "cell_type": "code",
      "source": [
        "df.to_excel('clients.xlsx', index=False)"
      ],
      "metadata": {
        "id": "SesZBfKYaJto"
      },
      "execution_count": null,
      "outputs": []
    },
    {
      "cell_type": "code",
      "source": [],
      "metadata": {
        "id": "r22Nr8mTHCfh"
      },
      "execution_count": null,
      "outputs": []
    },
    {
      "cell_type": "markdown",
      "source": [
        "### Анализ данных:"
      ],
      "metadata": {
        "id": "aEycj9OwJd17"
      }
    },
    {
      "cell_type": "markdown",
      "source": [
        "Посмотрим на клиентов, какие признаки у них есть и их распределения."
      ],
      "metadata": {
        "id": "z-xMENUzahSZ"
      }
    },
    {
      "cell_type": "code",
      "source": [
        "import matplotlib.pyplot as plt\n",
        "import seaborn as sns\n",
        "\n",
        "sns.set_style('darkgrid')"
      ],
      "metadata": {
        "id": "aCO7ocdmGoH7"
      },
      "execution_count": null,
      "outputs": []
    },
    {
      "cell_type": "code",
      "source": [
        "# читаем данные:\n",
        "df = pd.read_excel(\"clients.xlsx\")\n",
        "#df2 = pd.read_json(\"/content/clients2.json\")"
      ],
      "metadata": {
        "id": "i--6MoxpEruQ"
      },
      "execution_count": null,
      "outputs": []
    },
    {
      "cell_type": "code",
      "source": [
        "#df = pd.concat([df1, df2], axis=0)\n",
        "#assert df.shape[0] == (df1.shape[0] + df2.shape[0])\n",
        "#assert df.shape[1] == df1.shape[1]"
      ],
      "metadata": {
        "id": "SkD6MVt7J1ty"
      },
      "execution_count": null,
      "outputs": []
    },
    {
      "cell_type": "code",
      "source": [
        "# всего клиентов:\n",
        "print(\"Всего клиентов:\", df.shape[0])"
      ],
      "metadata": {
        "colab": {
          "base_uri": "https://localhost:8080/"
        },
        "id": "IDFwaa1QKCBy",
        "outputId": "b38772f7-ddb5-4275-9034-8165b4abe93c"
      },
      "execution_count": null,
      "outputs": [
        {
          "output_type": "stream",
          "name": "stdout",
          "text": [
            "Всего клиентов: 1000\n"
          ]
        }
      ]
    },
    {
      "cell_type": "code",
      "source": [
        "df.head()"
      ],
      "metadata": {
        "colab": {
          "base_uri": "https://localhost:8080/",
          "height": 206
        },
        "id": "Hi6Tax-KKDQa",
        "outputId": "c6df81bf-5722-40bb-9266-cc6973720a6d"
      },
      "execution_count": null,
      "outputs": [
        {
          "output_type": "execute_result",
          "data": {
            "text/plain": [
              "           client gender  age education  num_years  num_deposits  \\\n",
              "0   Семёнова Юлия    жен   62      сред          2             0   \n",
              "1   Зайцева Ирина    жен   52      сред          3             1   \n",
              "2  Морозов Никита    муж   52      спец          0             1   \n",
              "3  Морозова Ирина    жен   42      сред          3             0   \n",
              "4  Смирнов Никита    муж   51      высш          1             1   \n",
              "\n",
              "   total_deposits_sum  \n",
              "0        0.000000e+00  \n",
              "1        2.302557e+07  \n",
              "2        7.504340e+07  \n",
              "3        0.000000e+00  \n",
              "4        0.000000e+00  "
            ],
            "text/html": [
              "\n",
              "  <div id=\"df-fb171c9c-16a5-4c60-8f31-ba82af2e3ae3\" class=\"colab-df-container\">\n",
              "    <div>\n",
              "<style scoped>\n",
              "    .dataframe tbody tr th:only-of-type {\n",
              "        vertical-align: middle;\n",
              "    }\n",
              "\n",
              "    .dataframe tbody tr th {\n",
              "        vertical-align: top;\n",
              "    }\n",
              "\n",
              "    .dataframe thead th {\n",
              "        text-align: right;\n",
              "    }\n",
              "</style>\n",
              "<table border=\"1\" class=\"dataframe\">\n",
              "  <thead>\n",
              "    <tr style=\"text-align: right;\">\n",
              "      <th></th>\n",
              "      <th>client</th>\n",
              "      <th>gender</th>\n",
              "      <th>age</th>\n",
              "      <th>education</th>\n",
              "      <th>num_years</th>\n",
              "      <th>num_deposits</th>\n",
              "      <th>total_deposits_sum</th>\n",
              "    </tr>\n",
              "  </thead>\n",
              "  <tbody>\n",
              "    <tr>\n",
              "      <th>0</th>\n",
              "      <td>Семёнова Юлия</td>\n",
              "      <td>жен</td>\n",
              "      <td>62</td>\n",
              "      <td>сред</td>\n",
              "      <td>2</td>\n",
              "      <td>0</td>\n",
              "      <td>0.000000e+00</td>\n",
              "    </tr>\n",
              "    <tr>\n",
              "      <th>1</th>\n",
              "      <td>Зайцева Ирина</td>\n",
              "      <td>жен</td>\n",
              "      <td>52</td>\n",
              "      <td>сред</td>\n",
              "      <td>3</td>\n",
              "      <td>1</td>\n",
              "      <td>2.302557e+07</td>\n",
              "    </tr>\n",
              "    <tr>\n",
              "      <th>2</th>\n",
              "      <td>Морозов Никита</td>\n",
              "      <td>муж</td>\n",
              "      <td>52</td>\n",
              "      <td>спец</td>\n",
              "      <td>0</td>\n",
              "      <td>1</td>\n",
              "      <td>7.504340e+07</td>\n",
              "    </tr>\n",
              "    <tr>\n",
              "      <th>3</th>\n",
              "      <td>Морозова Ирина</td>\n",
              "      <td>жен</td>\n",
              "      <td>42</td>\n",
              "      <td>сред</td>\n",
              "      <td>3</td>\n",
              "      <td>0</td>\n",
              "      <td>0.000000e+00</td>\n",
              "    </tr>\n",
              "    <tr>\n",
              "      <th>4</th>\n",
              "      <td>Смирнов Никита</td>\n",
              "      <td>муж</td>\n",
              "      <td>51</td>\n",
              "      <td>высш</td>\n",
              "      <td>1</td>\n",
              "      <td>1</td>\n",
              "      <td>0.000000e+00</td>\n",
              "    </tr>\n",
              "  </tbody>\n",
              "</table>\n",
              "</div>\n",
              "    <div class=\"colab-df-buttons\">\n",
              "\n",
              "  <div class=\"colab-df-container\">\n",
              "    <button class=\"colab-df-convert\" onclick=\"convertToInteractive('df-fb171c9c-16a5-4c60-8f31-ba82af2e3ae3')\"\n",
              "            title=\"Convert this dataframe to an interactive table.\"\n",
              "            style=\"display:none;\">\n",
              "\n",
              "  <svg xmlns=\"http://www.w3.org/2000/svg\" height=\"24px\" viewBox=\"0 -960 960 960\">\n",
              "    <path d=\"M120-120v-720h720v720H120Zm60-500h600v-160H180v160Zm220 220h160v-160H400v160Zm0 220h160v-160H400v160ZM180-400h160v-160H180v160Zm440 0h160v-160H620v160ZM180-180h160v-160H180v160Zm440 0h160v-160H620v160Z\"/>\n",
              "  </svg>\n",
              "    </button>\n",
              "\n",
              "  <style>\n",
              "    .colab-df-container {\n",
              "      display:flex;\n",
              "      gap: 12px;\n",
              "    }\n",
              "\n",
              "    .colab-df-convert {\n",
              "      background-color: #E8F0FE;\n",
              "      border: none;\n",
              "      border-radius: 50%;\n",
              "      cursor: pointer;\n",
              "      display: none;\n",
              "      fill: #1967D2;\n",
              "      height: 32px;\n",
              "      padding: 0 0 0 0;\n",
              "      width: 32px;\n",
              "    }\n",
              "\n",
              "    .colab-df-convert:hover {\n",
              "      background-color: #E2EBFA;\n",
              "      box-shadow: 0px 1px 2px rgba(60, 64, 67, 0.3), 0px 1px 3px 1px rgba(60, 64, 67, 0.15);\n",
              "      fill: #174EA6;\n",
              "    }\n",
              "\n",
              "    .colab-df-buttons div {\n",
              "      margin-bottom: 4px;\n",
              "    }\n",
              "\n",
              "    [theme=dark] .colab-df-convert {\n",
              "      background-color: #3B4455;\n",
              "      fill: #D2E3FC;\n",
              "    }\n",
              "\n",
              "    [theme=dark] .colab-df-convert:hover {\n",
              "      background-color: #434B5C;\n",
              "      box-shadow: 0px 1px 3px 1px rgba(0, 0, 0, 0.15);\n",
              "      filter: drop-shadow(0px 1px 2px rgba(0, 0, 0, 0.3));\n",
              "      fill: #FFFFFF;\n",
              "    }\n",
              "  </style>\n",
              "\n",
              "    <script>\n",
              "      const buttonEl =\n",
              "        document.querySelector('#df-fb171c9c-16a5-4c60-8f31-ba82af2e3ae3 button.colab-df-convert');\n",
              "      buttonEl.style.display =\n",
              "        google.colab.kernel.accessAllowed ? 'block' : 'none';\n",
              "\n",
              "      async function convertToInteractive(key) {\n",
              "        const element = document.querySelector('#df-fb171c9c-16a5-4c60-8f31-ba82af2e3ae3');\n",
              "        const dataTable =\n",
              "          await google.colab.kernel.invokeFunction('convertToInteractive',\n",
              "                                                    [key], {});\n",
              "        if (!dataTable) return;\n",
              "\n",
              "        const docLinkHtml = 'Like what you see? Visit the ' +\n",
              "          '<a target=\"_blank\" href=https://colab.research.google.com/notebooks/data_table.ipynb>data table notebook</a>'\n",
              "          + ' to learn more about interactive tables.';\n",
              "        element.innerHTML = '';\n",
              "        dataTable['output_type'] = 'display_data';\n",
              "        await google.colab.output.renderOutput(dataTable, element);\n",
              "        const docLink = document.createElement('div');\n",
              "        docLink.innerHTML = docLinkHtml;\n",
              "        element.appendChild(docLink);\n",
              "      }\n",
              "    </script>\n",
              "  </div>\n",
              "\n",
              "\n",
              "<div id=\"df-a7a56882-4d70-4369-be6f-5c2f035fa3ed\">\n",
              "  <button class=\"colab-df-quickchart\" onclick=\"quickchart('df-a7a56882-4d70-4369-be6f-5c2f035fa3ed')\"\n",
              "            title=\"Suggest charts\"\n",
              "            style=\"display:none;\">\n",
              "\n",
              "<svg xmlns=\"http://www.w3.org/2000/svg\" height=\"24px\"viewBox=\"0 0 24 24\"\n",
              "     width=\"24px\">\n",
              "    <g>\n",
              "        <path d=\"M19 3H5c-1.1 0-2 .9-2 2v14c0 1.1.9 2 2 2h14c1.1 0 2-.9 2-2V5c0-1.1-.9-2-2-2zM9 17H7v-7h2v7zm4 0h-2V7h2v10zm4 0h-2v-4h2v4z\"/>\n",
              "    </g>\n",
              "</svg>\n",
              "  </button>\n",
              "\n",
              "<style>\n",
              "  .colab-df-quickchart {\n",
              "      --bg-color: #E8F0FE;\n",
              "      --fill-color: #1967D2;\n",
              "      --hover-bg-color: #E2EBFA;\n",
              "      --hover-fill-color: #174EA6;\n",
              "      --disabled-fill-color: #AAA;\n",
              "      --disabled-bg-color: #DDD;\n",
              "  }\n",
              "\n",
              "  [theme=dark] .colab-df-quickchart {\n",
              "      --bg-color: #3B4455;\n",
              "      --fill-color: #D2E3FC;\n",
              "      --hover-bg-color: #434B5C;\n",
              "      --hover-fill-color: #FFFFFF;\n",
              "      --disabled-bg-color: #3B4455;\n",
              "      --disabled-fill-color: #666;\n",
              "  }\n",
              "\n",
              "  .colab-df-quickchart {\n",
              "    background-color: var(--bg-color);\n",
              "    border: none;\n",
              "    border-radius: 50%;\n",
              "    cursor: pointer;\n",
              "    display: none;\n",
              "    fill: var(--fill-color);\n",
              "    height: 32px;\n",
              "    padding: 0;\n",
              "    width: 32px;\n",
              "  }\n",
              "\n",
              "  .colab-df-quickchart:hover {\n",
              "    background-color: var(--hover-bg-color);\n",
              "    box-shadow: 0 1px 2px rgba(60, 64, 67, 0.3), 0 1px 3px 1px rgba(60, 64, 67, 0.15);\n",
              "    fill: var(--button-hover-fill-color);\n",
              "  }\n",
              "\n",
              "  .colab-df-quickchart-complete:disabled,\n",
              "  .colab-df-quickchart-complete:disabled:hover {\n",
              "    background-color: var(--disabled-bg-color);\n",
              "    fill: var(--disabled-fill-color);\n",
              "    box-shadow: none;\n",
              "  }\n",
              "\n",
              "  .colab-df-spinner {\n",
              "    border: 2px solid var(--fill-color);\n",
              "    border-color: transparent;\n",
              "    border-bottom-color: var(--fill-color);\n",
              "    animation:\n",
              "      spin 1s steps(1) infinite;\n",
              "  }\n",
              "\n",
              "  @keyframes spin {\n",
              "    0% {\n",
              "      border-color: transparent;\n",
              "      border-bottom-color: var(--fill-color);\n",
              "      border-left-color: var(--fill-color);\n",
              "    }\n",
              "    20% {\n",
              "      border-color: transparent;\n",
              "      border-left-color: var(--fill-color);\n",
              "      border-top-color: var(--fill-color);\n",
              "    }\n",
              "    30% {\n",
              "      border-color: transparent;\n",
              "      border-left-color: var(--fill-color);\n",
              "      border-top-color: var(--fill-color);\n",
              "      border-right-color: var(--fill-color);\n",
              "    }\n",
              "    40% {\n",
              "      border-color: transparent;\n",
              "      border-right-color: var(--fill-color);\n",
              "      border-top-color: var(--fill-color);\n",
              "    }\n",
              "    60% {\n",
              "      border-color: transparent;\n",
              "      border-right-color: var(--fill-color);\n",
              "    }\n",
              "    80% {\n",
              "      border-color: transparent;\n",
              "      border-right-color: var(--fill-color);\n",
              "      border-bottom-color: var(--fill-color);\n",
              "    }\n",
              "    90% {\n",
              "      border-color: transparent;\n",
              "      border-bottom-color: var(--fill-color);\n",
              "    }\n",
              "  }\n",
              "</style>\n",
              "\n",
              "  <script>\n",
              "    async function quickchart(key) {\n",
              "      const quickchartButtonEl =\n",
              "        document.querySelector('#' + key + ' button');\n",
              "      quickchartButtonEl.disabled = true;  // To prevent multiple clicks.\n",
              "      quickchartButtonEl.classList.add('colab-df-spinner');\n",
              "      try {\n",
              "        const charts = await google.colab.kernel.invokeFunction(\n",
              "            'suggestCharts', [key], {});\n",
              "      } catch (error) {\n",
              "        console.error('Error during call to suggestCharts:', error);\n",
              "      }\n",
              "      quickchartButtonEl.classList.remove('colab-df-spinner');\n",
              "      quickchartButtonEl.classList.add('colab-df-quickchart-complete');\n",
              "    }\n",
              "    (() => {\n",
              "      let quickchartButtonEl =\n",
              "        document.querySelector('#df-a7a56882-4d70-4369-be6f-5c2f035fa3ed button');\n",
              "      quickchartButtonEl.style.display =\n",
              "        google.colab.kernel.accessAllowed ? 'block' : 'none';\n",
              "    })();\n",
              "  </script>\n",
              "</div>\n",
              "    </div>\n",
              "  </div>\n"
            ],
            "application/vnd.google.colaboratory.intrinsic+json": {
              "type": "dataframe",
              "variable_name": "df",
              "summary": "{\n  \"name\": \"df\",\n  \"rows\": 1000,\n  \"fields\": [\n    {\n      \"column\": \"client\",\n      \"properties\": {\n        \"dtype\": \"category\",\n        \"num_unique_values\": 304,\n        \"samples\": [\n          \"\\u041f\\u0430\\u0432\\u043b\\u043e\\u0432 \\u0410\\u043b\\u0435\\u043a\\u0441\\u0430\\u043d\\u0434\\u0440\",\n          \"\\u041b\\u0435\\u0431\\u0435\\u0434\\u0435\\u0432 \\u0414\\u043c\\u0438\\u0442\\u0440\\u0438\\u0439\",\n          \"\\u0421\\u043e\\u043b\\u043e\\u0432\\u044c\\u0451\\u0432\\u0430 \\u0410\\u043d\\u0430\\u0441\\u0442\\u0430\\u0441\\u0438\\u044f\"\n        ],\n        \"semantic_type\": \"\",\n        \"description\": \"\"\n      }\n    },\n    {\n      \"column\": \"gender\",\n      \"properties\": {\n        \"dtype\": \"category\",\n        \"num_unique_values\": 2,\n        \"samples\": [\n          \"\\u043c\\u0443\\u0436\",\n          \"\\u0436\\u0435\\u043d\"\n        ],\n        \"semantic_type\": \"\",\n        \"description\": \"\"\n      }\n    },\n    {\n      \"column\": \"age\",\n      \"properties\": {\n        \"dtype\": \"number\",\n        \"std\": 6,\n        \"min\": 30,\n        \"max\": 71,\n        \"num_unique_values\": 38,\n        \"samples\": [\n          34,\n          61\n        ],\n        \"semantic_type\": \"\",\n        \"description\": \"\"\n      }\n    },\n    {\n      \"column\": \"education\",\n      \"properties\": {\n        \"dtype\": \"category\",\n        \"num_unique_values\": 5,\n        \"samples\": [\n          \"\\u0441\\u043f\\u0435\\u0446\",\n          \"\\u0434\\u0440\\u0443\\u0433\\u043e\\u0435\"\n        ],\n        \"semantic_type\": \"\",\n        \"description\": \"\"\n      }\n    },\n    {\n      \"column\": \"num_years\",\n      \"properties\": {\n        \"dtype\": \"number\",\n        \"std\": 1,\n        \"min\": 0,\n        \"max\": 13,\n        \"num_unique_values\": 13,\n        \"samples\": [\n          11,\n          7\n        ],\n        \"semantic_type\": \"\",\n        \"description\": \"\"\n      }\n    },\n    {\n      \"column\": \"num_deposits\",\n      \"properties\": {\n        \"dtype\": \"number\",\n        \"std\": 0,\n        \"min\": 0,\n        \"max\": 4,\n        \"num_unique_values\": 5,\n        \"samples\": [\n          1,\n          4\n        ],\n        \"semantic_type\": \"\",\n        \"description\": \"\"\n      }\n    },\n    {\n      \"column\": \"total_deposits_sum\",\n      \"properties\": {\n        \"dtype\": \"number\",\n        \"std\": 38915880.503534414,\n        \"min\": 0.0,\n        \"max\": 199999998.0,\n        \"num_unique_values\": 427,\n        \"samples\": [\n          104512653.8471961,\n          85029552.06744084\n        ],\n        \"semantic_type\": \"\",\n        \"description\": \"\"\n      }\n    }\n  ]\n}"
            }
          },
          "metadata": {},
          "execution_count": 11
        }
      ]
    },
    {
      "cell_type": "code",
      "source": [
        "# пол:\n",
        "plt.figure(figsize=(5, 4))\n",
        "plt.title('Пол клиентов')\n",
        "df['gender'].value_counts().plot(kind='bar')\n",
        "plt.xticks(rotation=0)\n",
        "plt.ylabel('Частота')\n",
        "plt.xlabel('');"
      ],
      "metadata": {
        "colab": {
          "base_uri": "https://localhost:8080/",
          "height": 391
        },
        "id": "BOxoOyUxKU_D",
        "outputId": "efd94301-bc02-46fa-fa44-0373cd1ffafe"
      },
      "execution_count": null,
      "outputs": [
        {
          "output_type": "display_data",
          "data": {
            "text/plain": [
              "<Figure size 500x400 with 1 Axes>"
            ],
            "image/png": "[encoded data removed]"
          },
          "metadata": {}
        }
      ]
    },
    {
      "cell_type": "code",
      "source": [
        "plt.figure(figsize=(8, 5))\n",
        "plt.title('Возраст клиентов')\n",
        "df['age'].plot(kind='hist', bins=20)\n",
        "plt.xlabel('год')\n",
        "plt.ylabel('Частота');"
      ],
      "metadata": {
        "colab": {
          "base_uri": "https://localhost:8080/",
          "height": 487
        },
        "id": "01E7kjBkKVBu",
        "outputId": "d2fd8c5f-9733-4099-ae25-01c10eeec7f3"
      },
      "execution_count": null,
      "outputs": [
        {
          "output_type": "display_data",
          "data": {
            "text/plain": [
              "<Figure size 800x500 with 1 Axes>"
            ],
            "image/png": "[encoded data removed]"
          },
          "metadata": {}
        }
      ]
    },
    {
      "cell_type": "code",
      "source": [
        "# образование:\n",
        "plt.figure(figsize=(5, 4))\n",
        "plt.title('Образование')\n",
        "df['education'].value_counts().plot(kind='bar')\n",
        "plt.xticks(rotation=0)\n",
        "plt.ylabel('Частота')\n",
        "plt.xlabel('');"
      ],
      "metadata": {
        "colab": {
          "base_uri": "https://localhost:8080/",
          "height": 391
        },
        "id": "-_OgXkUEKVET",
        "outputId": "122d494e-600d-4071-8e13-9db8f94741d7"
      },
      "execution_count": null,
      "outputs": [
        {
          "output_type": "display_data",
          "data": {
            "text/plain": [
              "<Figure size 500x400 with 1 Axes>"
            ],
            "image/png": "[encoded data removed]"
          },
          "metadata": {}
        }
      ]
    },
    {
      "cell_type": "code",
      "source": [
        "# сколько лет обслуживаются в банке:\n",
        "plt.figure(figsize=(5, 4))\n",
        "plt.title('Кол-во лет в банке')\n",
        "df['num_years'].value_counts().sort_index().plot(kind='bar')\n",
        "plt.xticks(rotation=0)\n",
        "plt.ylabel('Частота')\n",
        "plt.xlabel('лет');"
      ],
      "metadata": {
        "colab": {
          "base_uri": "https://localhost:8080/",
          "height": 410
        },
        "id": "PK5_AGD1KVHa",
        "outputId": "6c144170-b423-4381-b523-f619d1bef152"
      },
      "execution_count": null,
      "outputs": [
        {
          "output_type": "display_data",
          "data": {
            "text/plain": [
              "<Figure size 500x400 with 1 Axes>"
            ],
            "image/png": "[encoded data removed]"
          },
          "metadata": {}
        }
      ]
    },
    {
      "cell_type": "code",
      "source": [
        "# число депозитов\n",
        "plt.figure(figsize=(5, 4))\n",
        "plt.title('Число депозитов')\n",
        "df['num_deposits'].value_counts().plot(kind='bar')\n",
        "plt.xticks(rotation=0)\n",
        "plt.ylabel('Частота')\n",
        "plt.xlabel('# депозитов');"
      ],
      "metadata": {
        "colab": {
          "base_uri": "https://localhost:8080/",
          "height": 410
        },
        "id": "RJByfx0HKVKL",
        "outputId": "57718e33-ff62-465a-a134-f33b20406b04"
      },
      "execution_count": null,
      "outputs": [
        {
          "output_type": "display_data",
          "data": {
            "text/plain": [
              "<Figure size 500x400 with 1 Axes>"
            ],
            "image/png": "[encoded data removed]"
          },
          "metadata": {}
        }
      ]
    },
    {
      "cell_type": "code",
      "source": [
        "plt.figure(figsize=(8, 5))\n",
        "plt.title('Общая сумма вкладов')\n",
        "df['total_deposits_sum'].plot(kind='hist', bins=20)\n",
        "plt.xticks(np.linspace(0, df['total_deposits_sum'].max(), 5), np.linspace(0, 200, 5))\n",
        "plt.xlabel('млн. руб')\n",
        "plt.ylabel('Частота');"
      ],
      "metadata": {
        "colab": {
          "base_uri": "https://localhost:8080/",
          "height": 487
        },
        "id": "UQ5SK5zUKVMU",
        "outputId": "974fd1da-710a-4f31-e922-bb67379289d9"
      },
      "execution_count": null,
      "outputs": [
        {
          "output_type": "display_data",
          "data": {
            "text/plain": [
              "<Figure size 800x500 with 1 Axes>"
            ],
            "image/png": "[encoded data removed]"
          },
          "metadata": {}
        }
      ]
    },
    {
      "cell_type": "code",
      "source": [],
      "metadata": {
        "id": "d9dPSEPcKVOh"
      },
      "execution_count": null,
      "outputs": []
    },
    {
      "cell_type": "markdown",
      "source": [
        "### Преобразование данных"
      ],
      "metadata": {
        "id": "dhLZ7aw-SkzN"
      }
    },
    {
      "cell_type": "markdown",
      "source": [
        "Возраст и общую сумму депозитов будем считать числовыми признаками, а все остальные - категориальными."
      ],
      "metadata": {
        "id": "pudE7yhXbU4N"
      }
    },
    {
      "cell_type": "code",
      "source": [
        "from sklearn.preprocessing import OneHotEncoder as OHE"
      ],
      "metadata": {
        "id": "KfwqnRxwT27L"
      },
      "execution_count": null,
      "outputs": []
    },
    {
      "cell_type": "code",
      "source": [
        "# удалим ФИО клиента:\n",
        "del df['client']"
      ],
      "metadata": {
        "id": "2ACxTZktSofl"
      },
      "execution_count": null,
      "outputs": []
    },
    {
      "cell_type": "markdown",
      "source": [
        "Чтобы масштабы признаков не влияли на сегментацию, нормируем численные признаки (StandardScaler)."
      ],
      "metadata": {
        "id": "SaJ0EaaPb06r"
      }
    },
    {
      "cell_type": "code",
      "source": [
        "# нормируем age и total_deposits_sum:\n",
        "age_mu, age_std = df['age'].mean(), df['age'].std()\n",
        "dep_sum_mu, dep_sum_std = df['total_deposits_sum'].mean(), df['total_deposits_sum'].std()\n",
        "df['age'] = (df['age'] - age_mu) / age_std\n",
        "df['total_deposits_sum'] = (df['total_deposits_sum'] - dep_sum_mu) /dep_sum_std"
      ],
      "metadata": {
        "id": "pogCkNQ9S6J-"
      },
      "execution_count": null,
      "outputs": []
    },
    {
      "cell_type": "markdown",
      "source": [
        "Категориальные признаки закодируем OneHotEncoder'ом."
      ],
      "metadata": {
        "id": "alw8gmpccQZb"
      }
    },
    {
      "cell_type": "code",
      "source": [
        "# остальные признаки преобразуем, используя OHE:\n",
        "names = [name for name in df.columns if name not in ('age', 'total_deposits_sum')]\n",
        "names"
      ],
      "metadata": {
        "colab": {
          "base_uri": "https://localhost:8080/"
        },
        "id": "D8dIRomTKVRK",
        "outputId": "eebb9dc9-980f-4644-f3ee-1de7f63ad827"
      },
      "execution_count": null,
      "outputs": [
        {
          "output_type": "execute_result",
          "data": {
            "text/plain": [
              "['gender', 'education', 'num_years', 'num_deposits']"
            ]
          },
          "metadata": {},
          "execution_count": 25
        }
      ]
    },
    {
      "cell_type": "code",
      "source": [
        "for name in names:\n",
        "  print(name, df[name].nunique())"
      ],
      "metadata": {
        "colab": {
          "base_uri": "https://localhost:8080/"
        },
        "id": "FOfuA7xU9RqR",
        "outputId": "c45fc537-92a8-4714-dfe0-0b6a6d4950e4"
      },
      "execution_count": null,
      "outputs": [
        {
          "output_type": "stream",
          "name": "stdout",
          "text": [
            "gender 2\n",
            "education 5\n",
            "num_years 13\n",
            "num_deposits 5\n"
          ]
        }
      ]
    },
    {
      "cell_type": "code",
      "source": [
        "ohe = OHE(sparse_output=False,\n",
        "          drop='if_binary',\n",
        "          feature_name_combiner='concat')\n",
        "\n",
        "m_cat = ohe.fit_transform(df[names])"
      ],
      "metadata": {
        "id": "gzfcWerPKVTz"
      },
      "execution_count": null,
      "outputs": []
    },
    {
      "cell_type": "code",
      "source": [
        "ohe.get_feature_names_out()"
      ],
      "metadata": {
        "colab": {
          "base_uri": "https://localhost:8080/"
        },
        "id": "i_onoaC0Ufnc",
        "outputId": "a1ef13e2-5659-44be-c5a5-8d26e22ee2a4"
      },
      "execution_count": null,
      "outputs": [
        {
          "output_type": "execute_result",
          "data": {
            "text/plain": [
              "array(['gender_муж', 'education_высш', 'education_другое',\n",
              "       'education_неок высш', 'education_спец', 'education_сред',\n",
              "       'num_years_0', 'num_years_1', 'num_years_2', 'num_years_3',\n",
              "       'num_years_4', 'num_years_5', 'num_years_6', 'num_years_7',\n",
              "       'num_years_8', 'num_years_9', 'num_years_10', 'num_years_11',\n",
              "       'num_years_12', 'num_deposits_0', 'num_deposits_1',\n",
              "       'num_deposits_2', 'num_deposits_3', 'num_deposits_4',\n",
              "       'num_deposits_5'], dtype=object)"
            ]
          },
          "metadata": {},
          "execution_count": 276
        }
      ]
    },
    {
      "cell_type": "code",
      "source": [
        "# объединим преобразованные признаки:\n",
        "X = pd.concat([df[['age', 'total_deposits_sum']],\n",
        "               pd.DataFrame(m_cat, columns=ohe.get_feature_names_out())],\n",
        "              axis=1)"
      ],
      "metadata": {
        "id": "o_q8JGJDVXgE"
      },
      "execution_count": null,
      "outputs": []
    },
    {
      "cell_type": "code",
      "source": [
        "X.head()"
      ],
      "metadata": {
        "colab": {
          "base_uri": "https://localhost:8080/",
          "height": 273
        },
        "id": "fJ8D3lKIvy_s",
        "outputId": "dcfb7d48-f079-4de4-aa78-309729ea4595"
      },
      "execution_count": null,
      "outputs": [
        {
          "output_type": "execute_result",
          "data": {
            "text/plain": [
              "        age  total_deposits_sum  gender_муж  education_высш  education_другое  \\\n",
              "0  1.580096           -0.675107         0.0             0.0               0.0   \n",
              "1  0.108185           -0.083432         0.0             0.0               0.0   \n",
              "2  0.108185            1.253242         1.0             0.0               0.0   \n",
              "3 -1.363725           -0.675107         0.0             0.0               0.0   \n",
              "4 -0.039006           -0.675107         1.0             1.0               0.0   \n",
              "\n",
              "   education_неок высш  education_спец  education_сред  num_years_0  \\\n",
              "0                  0.0             0.0             1.0          0.0   \n",
              "1                  0.0             0.0             1.0          0.0   \n",
              "2                  0.0             1.0             0.0          1.0   \n",
              "3                  0.0             0.0             1.0          0.0   \n",
              "4                  0.0             0.0             0.0          0.0   \n",
              "\n",
              "   num_years_1  ...  num_years_8  num_years_9  num_years_10  num_years_11  \\\n",
              "0          0.0  ...          0.0          0.0           0.0           0.0   \n",
              "1          0.0  ...          0.0          0.0           0.0           0.0   \n",
              "2          0.0  ...          0.0          0.0           0.0           0.0   \n",
              "3          0.0  ...          0.0          0.0           0.0           0.0   \n",
              "4          1.0  ...          0.0          0.0           0.0           0.0   \n",
              "\n",
              "   num_years_13  num_deposits_0  num_deposits_1  num_deposits_2  \\\n",
              "0           0.0             1.0             0.0             0.0   \n",
              "1           0.0             0.0             1.0             0.0   \n",
              "2           0.0             0.0             1.0             0.0   \n",
              "3           0.0             1.0             0.0             0.0   \n",
              "4           0.0             0.0             1.0             0.0   \n",
              "\n",
              "   num_deposits_3  num_deposits_4  \n",
              "0             0.0             0.0  \n",
              "1             0.0             0.0  \n",
              "2             0.0             0.0  \n",
              "3             0.0             0.0  \n",
              "4             0.0             0.0  \n",
              "\n",
              "[5 rows x 26 columns]"
            ],
            "text/html": [
              "\n",
              "  <div id=\"df-4aa7bc1e-a5bf-428a-946b-2dbb832570f2\" class=\"colab-df-container\">\n",
              "    <div>\n",
              "<style scoped>\n",
              "    .dataframe tbody tr th:only-of-type {\n",
              "        vertical-align: middle;\n",
              "    }\n",
              "\n",
              "    .dataframe tbody tr th {\n",
              "        vertical-align: top;\n",
              "    }\n",
              "\n",
              "    .dataframe thead th {\n",
              "        text-align: right;\n",
              "    }\n",
              "</style>\n",
              "<table border=\"1\" class=\"dataframe\">\n",
              "  <thead>\n",
              "    <tr style=\"text-align: right;\">\n",
              "      <th></th>\n",
              "      <th>age</th>\n",
              "      <th>total_deposits_sum</th>\n",
              "      <th>gender_муж</th>\n",
              "      <th>education_высш</th>\n",
              "      <th>education_другое</th>\n",
              "      <th>education_неок высш</th>\n",
              "      <th>education_спец</th>\n",
              "      <th>education_сред</th>\n",
              "      <th>num_years_0</th>\n",
              "      <th>num_years_1</th>\n",
              "      <th>...</th>\n",
              "      <th>num_years_8</th>\n",
              "      <th>num_years_9</th>\n",
              "      <th>num_years_10</th>\n",
              "      <th>num_years_11</th>\n",
              "      <th>num_years_13</th>\n",
              "      <th>num_deposits_0</th>\n",
              "      <th>num_deposits_1</th>\n",
              "      <th>num_deposits_2</th>\n",
              "      <th>num_deposits_3</th>\n",
              "      <th>num_deposits_4</th>\n",
              "    </tr>\n",
              "  </thead>\n",
              "  <tbody>\n",
              "    <tr>\n",
              "      <th>0</th>\n",
              "      <td>1.580096</td>\n",
              "      <td>-0.675107</td>\n",
              "      <td>0.0</td>\n",
              "      <td>0.0</td>\n",
              "      <td>0.0</td>\n",
              "      <td>0.0</td>\n",
              "      <td>0.0</td>\n",
              "      <td>1.0</td>\n",
              "      <td>0.0</td>\n",
              "      <td>0.0</td>\n",
              "      <td>...</td>\n",
              "      <td>0.0</td>\n",
              "      <td>0.0</td>\n",
              "      <td>0.0</td>\n",
              "      <td>0.0</td>\n",
              "      <td>0.0</td>\n",
              "      <td>1.0</td>\n",
              "      <td>0.0</td>\n",
              "      <td>0.0</td>\n",
              "      <td>0.0</td>\n",
              "      <td>0.0</td>\n",
              "    </tr>\n",
              "    <tr>\n",
              "      <th>1</th>\n",
              "      <td>0.108185</td>\n",
              "      <td>-0.083432</td>\n",
              "      <td>0.0</td>\n",
              "      <td>0.0</td>\n",
              "      <td>0.0</td>\n",
              "      <td>0.0</td>\n",
              "      <td>0.0</td>\n",
              "      <td>1.0</td>\n",
              "      <td>0.0</td>\n",
              "      <td>0.0</td>\n",
              "      <td>...</td>\n",
              "      <td>0.0</td>\n",
              "      <td>0.0</td>\n",
              "      <td>0.0</td>\n",
              "      <td>0.0</td>\n",
              "      <td>0.0</td>\n",
              "      <td>0.0</td>\n",
              "      <td>1.0</td>\n",
              "      <td>0.0</td>\n",
              "      <td>0.0</td>\n",
              "      <td>0.0</td>\n",
              "    </tr>\n",
              "    <tr>\n",
              "      <th>2</th>\n",
              "      <td>0.108185</td>\n",
              "      <td>1.253242</td>\n",
              "      <td>1.0</td>\n",
              "      <td>0.0</td>\n",
              "      <td>0.0</td>\n",
              "      <td>0.0</td>\n",
              "      <td>1.0</td>\n",
              "      <td>0.0</td>\n",
              "      <td>1.0</td>\n",
              "      <td>0.0</td>\n",
              "      <td>...</td>\n",
              "      <td>0.0</td>\n",
              "      <td>0.0</td>\n",
              "      <td>0.0</td>\n",
              "      <td>0.0</td>\n",
              "      <td>0.0</td>\n",
              "      <td>0.0</td>\n",
              "      <td>1.0</td>\n",
              "      <td>0.0</td>\n",
              "      <td>0.0</td>\n",
              "      <td>0.0</td>\n",
              "    </tr>\n",
              "    <tr>\n",
              "      <th>3</th>\n",
              "      <td>-1.363725</td>\n",
              "      <td>-0.675107</td>\n",
              "      <td>0.0</td>\n",
              "      <td>0.0</td>\n",
              "      <td>0.0</td>\n",
              "      <td>0.0</td>\n",
              "      <td>0.0</td>\n",
              "      <td>1.0</td>\n",
              "      <td>0.0</td>\n",
              "      <td>0.0</td>\n",
              "      <td>...</td>\n",
              "      <td>0.0</td>\n",
              "      <td>0.0</td>\n",
              "      <td>0.0</td>\n",
              "      <td>0.0</td>\n",
              "      <td>0.0</td>\n",
              "      <td>1.0</td>\n",
              "      <td>0.0</td>\n",
              "      <td>0.0</td>\n",
              "      <td>0.0</td>\n",
              "      <td>0.0</td>\n",
              "    </tr>\n",
              "    <tr>\n",
              "      <th>4</th>\n",
              "      <td>-0.039006</td>\n",
              "      <td>-0.675107</td>\n",
              "      <td>1.0</td>\n",
              "      <td>1.0</td>\n",
              "      <td>0.0</td>\n",
              "      <td>0.0</td>\n",
              "      <td>0.0</td>\n",
              "      <td>0.0</td>\n",
              "      <td>0.0</td>\n",
              "      <td>1.0</td>\n",
              "      <td>...</td>\n",
              "      <td>0.0</td>\n",
              "      <td>0.0</td>\n",
              "      <td>0.0</td>\n",
              "      <td>0.0</td>\n",
              "      <td>0.0</td>\n",
              "      <td>0.0</td>\n",
              "      <td>1.0</td>\n",
              "      <td>0.0</td>\n",
              "      <td>0.0</td>\n",
              "      <td>0.0</td>\n",
              "    </tr>\n",
              "  </tbody>\n",
              "</table>\n",
              "<p>5 rows × 26 columns</p>\n",
              "</div>\n",
              "    <div class=\"colab-df-buttons\">\n",
              "\n",
              "  <div class=\"colab-df-container\">\n",
              "    <button class=\"colab-df-convert\" onclick=\"convertToInteractive('df-4aa7bc1e-a5bf-428a-946b-2dbb832570f2')\"\n",
              "            title=\"Convert this dataframe to an interactive table.\"\n",
              "            style=\"display:none;\">\n",
              "\n",
              "  <svg xmlns=\"http://www.w3.org/2000/svg\" height=\"24px\" viewBox=\"0 -960 960 960\">\n",
              "    <path d=\"M120-120v-720h720v720H120Zm60-500h600v-160H180v160Zm220 220h160v-160H400v160Zm0 220h160v-160H400v160ZM180-400h160v-160H180v160Zm440 0h160v-160H620v160ZM180-180h160v-160H180v160Zm440 0h160v-160H620v160Z\"/>\n",
              "  </svg>\n",
              "    </button>\n",
              "\n",
              "  <style>\n",
              "    .colab-df-container {\n",
              "      display:flex;\n",
              "      gap: 12px;\n",
              "    }\n",
              "\n",
              "    .colab-df-convert {\n",
              "      background-color: #E8F0FE;\n",
              "      border: none;\n",
              "      border-radius: 50%;\n",
              "      cursor: pointer;\n",
              "      display: none;\n",
              "      fill: #1967D2;\n",
              "      height: 32px;\n",
              "      padding: 0 0 0 0;\n",
              "      width: 32px;\n",
              "    }\n",
              "\n",
              "    .colab-df-convert:hover {\n",
              "      background-color: #E2EBFA;\n",
              "      box-shadow: 0px 1px 2px rgba(60, 64, 67, 0.3), 0px 1px 3px 1px rgba(60, 64, 67, 0.15);\n",
              "      fill: #174EA6;\n",
              "    }\n",
              "\n",
              "    .colab-df-buttons div {\n",
              "      margin-bottom: 4px;\n",
              "    }\n",
              "\n",
              "    [theme=dark] .colab-df-convert {\n",
              "      background-color: #3B4455;\n",
              "      fill: #D2E3FC;\n",
              "    }\n",
              "\n",
              "    [theme=dark] .colab-df-convert:hover {\n",
              "      background-color: #434B5C;\n",
              "      box-shadow: 0px 1px 3px 1px rgba(0, 0, 0, 0.15);\n",
              "      filter: drop-shadow(0px 1px 2px rgba(0, 0, 0, 0.3));\n",
              "      fill: #FFFFFF;\n",
              "    }\n",
              "  </style>\n",
              "\n",
              "    <script>\n",
              "      const buttonEl =\n",
              "        document.querySelector('#df-4aa7bc1e-a5bf-428a-946b-2dbb832570f2 button.colab-df-convert');\n",
              "      buttonEl.style.display =\n",
              "        google.colab.kernel.accessAllowed ? 'block' : 'none';\n",
              "\n",
              "      async function convertToInteractive(key) {\n",
              "        const element = document.querySelector('#df-4aa7bc1e-a5bf-428a-946b-2dbb832570f2');\n",
              "        const dataTable =\n",
              "          await google.colab.kernel.invokeFunction('convertToInteractive',\n",
              "                                                    [key], {});\n",
              "        if (!dataTable) return;\n",
              "\n",
              "        const docLinkHtml = 'Like what you see? Visit the ' +\n",
              "          '<a target=\"_blank\" href=https://colab.research.google.com/notebooks/data_table.ipynb>data table notebook</a>'\n",
              "          + ' to learn more about interactive tables.';\n",
              "        element.innerHTML = '';\n",
              "        dataTable['output_type'] = 'display_data';\n",
              "        await google.colab.output.renderOutput(dataTable, element);\n",
              "        const docLink = document.createElement('div');\n",
              "        docLink.innerHTML = docLinkHtml;\n",
              "        element.appendChild(docLink);\n",
              "      }\n",
              "    </script>\n",
              "  </div>\n",
              "\n",
              "\n",
              "<div id=\"df-0ba0a2f5-e978-4c96-ad62-3cbadade6262\">\n",
              "  <button class=\"colab-df-quickchart\" onclick=\"quickchart('df-0ba0a2f5-e978-4c96-ad62-3cbadade6262')\"\n",
              "            title=\"Suggest charts\"\n",
              "            style=\"display:none;\">\n",
              "\n",
              "<svg xmlns=\"http://www.w3.org/2000/svg\" height=\"24px\"viewBox=\"0 0 24 24\"\n",
              "     width=\"24px\">\n",
              "    <g>\n",
              "        <path d=\"M19 3H5c-1.1 0-2 .9-2 2v14c0 1.1.9 2 2 2h14c1.1 0 2-.9 2-2V5c0-1.1-.9-2-2-2zM9 17H7v-7h2v7zm4 0h-2V7h2v10zm4 0h-2v-4h2v4z\"/>\n",
              "    </g>\n",
              "</svg>\n",
              "  </button>\n",
              "\n",
              "<style>\n",
              "  .colab-df-quickchart {\n",
              "      --bg-color: #E8F0FE;\n",
              "      --fill-color: #1967D2;\n",
              "      --hover-bg-color: #E2EBFA;\n",
              "      --hover-fill-color: #174EA6;\n",
              "      --disabled-fill-color: #AAA;\n",
              "      --disabled-bg-color: #DDD;\n",
              "  }\n",
              "\n",
              "  [theme=dark] .colab-df-quickchart {\n",
              "      --bg-color: #3B4455;\n",
              "      --fill-color: #D2E3FC;\n",
              "      --hover-bg-color: #434B5C;\n",
              "      --hover-fill-color: #FFFFFF;\n",
              "      --disabled-bg-color: #3B4455;\n",
              "      --disabled-fill-color: #666;\n",
              "  }\n",
              "\n",
              "  .colab-df-quickchart {\n",
              "    background-color: var(--bg-color);\n",
              "    border: none;\n",
              "    border-radius: 50%;\n",
              "    cursor: pointer;\n",
              "    display: none;\n",
              "    fill: var(--fill-color);\n",
              "    height: 32px;\n",
              "    padding: 0;\n",
              "    width: 32px;\n",
              "  }\n",
              "\n",
              "  .colab-df-quickchart:hover {\n",
              "    background-color: var(--hover-bg-color);\n",
              "    box-shadow: 0 1px 2px rgba(60, 64, 67, 0.3), 0 1px 3px 1px rgba(60, 64, 67, 0.15);\n",
              "    fill: var(--button-hover-fill-color);\n",
              "  }\n",
              "\n",
              "  .colab-df-quickchart-complete:disabled,\n",
              "  .colab-df-quickchart-complete:disabled:hover {\n",
              "    background-color: var(--disabled-bg-color);\n",
              "    fill: var(--disabled-fill-color);\n",
              "    box-shadow: none;\n",
              "  }\n",
              "\n",
              "  .colab-df-spinner {\n",
              "    border: 2px solid var(--fill-color);\n",
              "    border-color: transparent;\n",
              "    border-bottom-color: var(--fill-color);\n",
              "    animation:\n",
              "      spin 1s steps(1) infinite;\n",
              "  }\n",
              "\n",
              "  @keyframes spin {\n",
              "    0% {\n",
              "      border-color: transparent;\n",
              "      border-bottom-color: var(--fill-color);\n",
              "      border-left-color: var(--fill-color);\n",
              "    }\n",
              "    20% {\n",
              "      border-color: transparent;\n",
              "      border-left-color: var(--fill-color);\n",
              "      border-top-color: var(--fill-color);\n",
              "    }\n",
              "    30% {\n",
              "      border-color: transparent;\n",
              "      border-left-color: var(--fill-color);\n",
              "      border-top-color: var(--fill-color);\n",
              "      border-right-color: var(--fill-color);\n",
              "    }\n",
              "    40% {\n",
              "      border-color: transparent;\n",
              "      border-right-color: var(--fill-color);\n",
              "      border-top-color: var(--fill-color);\n",
              "    }\n",
              "    60% {\n",
              "      border-color: transparent;\n",
              "      border-right-color: var(--fill-color);\n",
              "    }\n",
              "    80% {\n",
              "      border-color: transparent;\n",
              "      border-right-color: var(--fill-color);\n",
              "      border-bottom-color: var(--fill-color);\n",
              "    }\n",
              "    90% {\n",
              "      border-color: transparent;\n",
              "      border-bottom-color: var(--fill-color);\n",
              "    }\n",
              "  }\n",
              "</style>\n",
              "\n",
              "  <script>\n",
              "    async function quickchart(key) {\n",
              "      const quickchartButtonEl =\n",
              "        document.querySelector('#' + key + ' button');\n",
              "      quickchartButtonEl.disabled = true;  // To prevent multiple clicks.\n",
              "      quickchartButtonEl.classList.add('colab-df-spinner');\n",
              "      try {\n",
              "        const charts = await google.colab.kernel.invokeFunction(\n",
              "            'suggestCharts', [key], {});\n",
              "      } catch (error) {\n",
              "        console.error('Error during call to suggestCharts:', error);\n",
              "      }\n",
              "      quickchartButtonEl.classList.remove('colab-df-spinner');\n",
              "      quickchartButtonEl.classList.add('colab-df-quickchart-complete');\n",
              "    }\n",
              "    (() => {\n",
              "      let quickchartButtonEl =\n",
              "        document.querySelector('#df-0ba0a2f5-e978-4c96-ad62-3cbadade6262 button');\n",
              "      quickchartButtonEl.style.display =\n",
              "        google.colab.kernel.accessAllowed ? 'block' : 'none';\n",
              "    })();\n",
              "  </script>\n",
              "</div>\n",
              "    </div>\n",
              "  </div>\n"
            ],
            "application/vnd.google.colaboratory.intrinsic+json": {
              "type": "dataframe",
              "variable_name": "X"
            }
          },
          "metadata": {},
          "execution_count": 29
        }
      ]
    },
    {
      "cell_type": "markdown",
      "source": [
        "### Кластеризация Kmeans"
      ],
      "metadata": {
        "id": "ItctHBy_Jl4a"
      }
    },
    {
      "cell_type": "markdown",
      "source": [
        "Используем кластеризацию Kmeans. Оптимальное кол-во кластеров подберем с помощью метода 'локтя'."
      ],
      "metadata": {
        "id": "bb3g_QDBcjcR"
      }
    },
    {
      "cell_type": "code",
      "source": [
        "from sklearn.cluster import KMeans, AgglomerativeClustering\n",
        "from scipy.spatial.distance import cdist"
      ],
      "metadata": {
        "id": "zTnPEdo_JoLR"
      },
      "execution_count": null,
      "outputs": []
    },
    {
      "cell_type": "code",
      "source": [
        "distances = []\n",
        "\n",
        "# диапазон числа кластеров от 1 до 20:\n",
        "for k in range(1, 21):\n",
        "  kmeans = KMeans(n_clusters=k, init='k-means++').fit(X)\n",
        "\n",
        "  # среднее расстояние от точки до центра кластера:\n",
        "  dist = sum(np.min(cdist(X, kmeans.cluster_centers_, 'euclidean'), axis=1)**2 / X.shape[0])\n",
        "  distances.append(dist)"
      ],
      "metadata": {
        "id": "zJhyvyRhKQ93"
      },
      "execution_count": null,
      "outputs": []
    },
    {
      "cell_type": "code",
      "source": [
        "plt.plot(range(1, 21), distances, 'bx-')\n",
        "plt.xlabel('# кластеров (k)')\n",
        "plt.ylabel('Расстояние')\n",
        "plt.title('Среднее расстояние до центра кластера')\n",
        "plt.show();"
      ],
      "metadata": {
        "colab": {
          "base_uri": "https://localhost:8080/",
          "height": 472
        },
        "id": "Oauhrm6bzZUJ",
        "outputId": "200ef634-7c24-448f-ea4b-9492f4ff387a"
      },
      "execution_count": null,
      "outputs": [
        {
          "output_type": "display_data",
          "data": {
            "text/plain": [
              "<Figure size 640x480 with 1 Axes>"
            ],
            "image/png": "[encoded data removed]"
          },
          "metadata": {}
        }
      ]
    },
    {
      "cell_type": "markdown",
      "source": [
        "Значительный прирост среднего расстояния происходит при переходе от 3 кластеров к 2, либо от 2 к 1. Рассмотрим вариант с 3 кластерами."
      ],
      "metadata": {
        "id": "fbTsQsIZgj5c"
      }
    },
    {
      "cell_type": "code",
      "source": [
        "# 3 кластера:\n",
        "k = 3\n",
        "kmeans = KMeans(n_clusters=k, init='k-means++', random_state=12).fit(X)"
      ],
      "metadata": {
        "id": "kJlwojkZzqSO"
      },
      "execution_count": null,
      "outputs": []
    },
    {
      "cell_type": "code",
      "source": [
        "# число клиентов в каждом кластере:\n",
        "y = kmeans.predict(X)\n",
        "for i in range(k):\n",
        "  print(f\"кластер #{i+1}, число клиентов: {(y==i).sum()}\")"
      ],
      "metadata": {
        "colab": {
          "base_uri": "https://localhost:8080/"
        },
        "id": "Hh80ctG0Jlxi",
        "outputId": "e0cf5bfa-03fd-44df-ab43-805704207247"
      },
      "execution_count": null,
      "outputs": [
        {
          "output_type": "stream",
          "name": "stdout",
          "text": [
            "кластер #1, число клиентов: 391\n",
            "кластер #2, число клиентов: 282\n",
            "кластер #3, число клиентов: 327\n"
          ]
        }
      ]
    },
    {
      "cell_type": "code",
      "source": [
        "X['cluster'] = y\n",
        "df['cluster'] = y"
      ],
      "metadata": {
        "id": "u5UziyCRBHil"
      },
      "execution_count": null,
      "outputs": []
    },
    {
      "cell_type": "code",
      "source": [
        "X.iloc[:, 0] = X.iloc[:, 0] * age_std + age_mu\n",
        "X.iloc[:, 1] = X.iloc[:, 1] * dep_sum_std + dep_sum_mu"
      ],
      "metadata": {
        "id": "ZIj1D9UXPBWU"
      },
      "execution_count": null,
      "outputs": []
    },
    {
      "cell_type": "markdown",
      "source": [
        "###  Сравним клиентов банка из каждого кластера."
      ],
      "metadata": {
        "id": "zBOngQpzWFwa"
      }
    },
    {
      "cell_type": "code",
      "source": [
        "cluster_centers = X.groupby('cluster').mean()\n",
        "cluster_centers"
      ],
      "metadata": {
        "colab": {
          "base_uri": "https://localhost:8080/",
          "height": 241
        },
        "id": "RfDUE8tLBKeY",
        "outputId": "b00b6f96-77a1-4516-f2e1-8aa70273d283"
      },
      "execution_count": null,
      "outputs": [
        {
          "output_type": "execute_result",
          "data": {
            "text/plain": [
              "               age  total_deposits_sum  gender_муж  education_высш  \\\n",
              "cluster                                                              \n",
              "0        56.071611        3.822961e+06    0.514066        0.342711   \n",
              "1        52.138298        8.096648e+07    0.503546        0.393617   \n",
              "2        44.764526        5.948223e+06    0.538226        0.324159   \n",
              "\n",
              "         education_другое  education_неок высш  education_спец  \\\n",
              "cluster                                                          \n",
              "0                0.086957             0.150895        0.268542   \n",
              "1                0.074468             0.163121        0.234043   \n",
              "2                0.070336             0.201835        0.259939   \n",
              "\n",
              "         education_сред  num_years_0  num_years_1  ...  num_years_8  \\\n",
              "cluster                                            ...                \n",
              "0              0.150895     0.232737     0.299233  ...     0.010230   \n",
              "1              0.134752     0.223404     0.358156  ...     0.003546   \n",
              "2              0.143731     0.247706     0.272171  ...     0.006116   \n",
              "\n",
              "         num_years_9  num_years_10  num_years_11  num_years_13  \\\n",
              "cluster                                                          \n",
              "0           0.005115      0.007673      0.002558      0.000000   \n",
              "1           0.003546      0.000000      0.000000      0.003546   \n",
              "2           0.006116      0.000000      0.000000      0.000000   \n",
              "\n",
              "         num_deposits_0  num_deposits_1  num_deposits_2  num_deposits_3  \\\n",
              "cluster                                                                   \n",
              "0              0.687980        0.212276        0.066496        0.023018   \n",
              "1              0.000000        0.695035        0.237589        0.056738   \n",
              "2              0.675841        0.223242        0.091743        0.009174   \n",
              "\n",
              "         num_deposits_4  \n",
              "cluster                  \n",
              "0              0.010230  \n",
              "1              0.010638  \n",
              "2              0.000000  \n",
              "\n",
              "[3 rows x 26 columns]"
            ],
            "text/html": [
              "\n",
              "  <div id=\"df-0e37d513-ea59-4c53-af7d-168250e28a5d\" class=\"colab-df-container\">\n",
              "    <div>\n",
              "<style scoped>\n",
              "    .dataframe tbody tr th:only-of-type {\n",
              "        vertical-align: middle;\n",
              "    }\n",
              "\n",
              "    .dataframe tbody tr th {\n",
              "        vertical-align: top;\n",
              "    }\n",
              "\n",
              "    .dataframe thead th {\n",
              "        text-align: right;\n",
              "    }\n",
              "</style>\n",
              "<table border=\"1\" class=\"dataframe\">\n",
              "  <thead>\n",
              "    <tr style=\"text-align: right;\">\n",
              "      <th></th>\n",
              "      <th>age</th>\n",
              "      <th>total_deposits_sum</th>\n",
              "      <th>gender_муж</th>\n",
              "      <th>education_высш</th>\n",
              "      <th>education_другое</th>\n",
              "      <th>education_неок высш</th>\n",
              "      <th>education_спец</th>\n",
              "      <th>education_сред</th>\n",
              "      <th>num_years_0</th>\n",
              "      <th>num_years_1</th>\n",
              "      <th>...</th>\n",
              "      <th>num_years_8</th>\n",
              "      <th>num_years_9</th>\n",
              "      <th>num_years_10</th>\n",
              "      <th>num_years_11</th>\n",
              "      <th>num_years_13</th>\n",
              "      <th>num_deposits_0</th>\n",
              "      <th>num_deposits_1</th>\n",
              "      <th>num_deposits_2</th>\n",
              "      <th>num_deposits_3</th>\n",
              "      <th>num_deposits_4</th>\n",
              "    </tr>\n",
              "    <tr>\n",
              "      <th>cluster</th>\n",
              "      <th></th>\n",
              "      <th></th>\n",
              "      <th></th>\n",
              "      <th></th>\n",
              "      <th></th>\n",
              "      <th></th>\n",
              "      <th></th>\n",
              "      <th></th>\n",
              "      <th></th>\n",
              "      <th></th>\n",
              "      <th></th>\n",
              "      <th></th>\n",
              "      <th></th>\n",
              "      <th></th>\n",
              "      <th></th>\n",
              "      <th></th>\n",
              "      <th></th>\n",
              "      <th></th>\n",
              "      <th></th>\n",
              "      <th></th>\n",
              "      <th></th>\n",
              "    </tr>\n",
              "  </thead>\n",
              "  <tbody>\n",
              "    <tr>\n",
              "      <th>0</th>\n",
              "      <td>56.071611</td>\n",
              "      <td>3.822961e+06</td>\n",
              "      <td>0.514066</td>\n",
              "      <td>0.342711</td>\n",
              "      <td>0.086957</td>\n",
              "      <td>0.150895</td>\n",
              "      <td>0.268542</td>\n",
              "      <td>0.150895</td>\n",
              "      <td>0.232737</td>\n",
              "      <td>0.299233</td>\n",
              "      <td>...</td>\n",
              "      <td>0.010230</td>\n",
              "      <td>0.005115</td>\n",
              "      <td>0.007673</td>\n",
              "      <td>0.002558</td>\n",
              "      <td>0.000000</td>\n",
              "      <td>0.687980</td>\n",
              "      <td>0.212276</td>\n",
              "      <td>0.066496</td>\n",
              "      <td>0.023018</td>\n",
              "      <td>0.010230</td>\n",
              "    </tr>\n",
              "    <tr>\n",
              "      <th>1</th>\n",
              "      <td>52.138298</td>\n",
              "      <td>8.096648e+07</td>\n",
              "      <td>0.503546</td>\n",
              "      <td>0.393617</td>\n",
              "      <td>0.074468</td>\n",
              "      <td>0.163121</td>\n",
              "      <td>0.234043</td>\n",
              "      <td>0.134752</td>\n",
              "      <td>0.223404</td>\n",
              "      <td>0.358156</td>\n",
              "      <td>...</td>\n",
              "      <td>0.003546</td>\n",
              "      <td>0.003546</td>\n",
              "      <td>0.000000</td>\n",
              "      <td>0.000000</td>\n",
              "      <td>0.003546</td>\n",
              "      <td>0.000000</td>\n",
              "      <td>0.695035</td>\n",
              "      <td>0.237589</td>\n",
              "      <td>0.056738</td>\n",
              "      <td>0.010638</td>\n",
              "    </tr>\n",
              "    <tr>\n",
              "      <th>2</th>\n",
              "      <td>44.764526</td>\n",
              "      <td>5.948223e+06</td>\n",
              "      <td>0.538226</td>\n",
              "      <td>0.324159</td>\n",
              "      <td>0.070336</td>\n",
              "      <td>0.201835</td>\n",
              "      <td>0.259939</td>\n",
              "      <td>0.143731</td>\n",
              "      <td>0.247706</td>\n",
              "      <td>0.272171</td>\n",
              "      <td>...</td>\n",
              "      <td>0.006116</td>\n",
              "      <td>0.006116</td>\n",
              "      <td>0.000000</td>\n",
              "      <td>0.000000</td>\n",
              "      <td>0.000000</td>\n",
              "      <td>0.675841</td>\n",
              "      <td>0.223242</td>\n",
              "      <td>0.091743</td>\n",
              "      <td>0.009174</td>\n",
              "      <td>0.000000</td>\n",
              "    </tr>\n",
              "  </tbody>\n",
              "</table>\n",
              "<p>3 rows × 26 columns</p>\n",
              "</div>\n",
              "    <div class=\"colab-df-buttons\">\n",
              "\n",
              "  <div class=\"colab-df-container\">\n",
              "    <button class=\"colab-df-convert\" onclick=\"convertToInteractive('df-0e37d513-ea59-4c53-af7d-168250e28a5d')\"\n",
              "            title=\"Convert this dataframe to an interactive table.\"\n",
              "            style=\"display:none;\">\n",
              "\n",
              "  <svg xmlns=\"http://www.w3.org/2000/svg\" height=\"24px\" viewBox=\"0 -960 960 960\">\n",
              "    <path d=\"M120-120v-720h720v720H120Zm60-500h600v-160H180v160Zm220 220h160v-160H400v160Zm0 220h160v-160H400v160ZM180-400h160v-160H180v160Zm440 0h160v-160H620v160ZM180-180h160v-160H180v160Zm440 0h160v-160H620v160Z\"/>\n",
              "  </svg>\n",
              "    </button>\n",
              "\n",
              "  <style>\n",
              "    .colab-df-container {\n",
              "      display:flex;\n",
              "      gap: 12px;\n",
              "    }\n",
              "\n",
              "    .colab-df-convert {\n",
              "      background-color: #E8F0FE;\n",
              "      border: none;\n",
              "      border-radius: 50%;\n",
              "      cursor: pointer;\n",
              "      display: none;\n",
              "      fill: #1967D2;\n",
              "      height: 32px;\n",
              "      padding: 0 0 0 0;\n",
              "      width: 32px;\n",
              "    }\n",
              "\n",
              "    .colab-df-convert:hover {\n",
              "      background-color: #E2EBFA;\n",
              "      box-shadow: 0px 1px 2px rgba(60, 64, 67, 0.3), 0px 1px 3px 1px rgba(60, 64, 67, 0.15);\n",
              "      fill: #174EA6;\n",
              "    }\n",
              "\n",
              "    .colab-df-buttons div {\n",
              "      margin-bottom: 4px;\n",
              "    }\n",
              "\n",
              "    [theme=dark] .colab-df-convert {\n",
              "      background-color: #3B4455;\n",
              "      fill: #D2E3FC;\n",
              "    }\n",
              "\n",
              "    [theme=dark] .colab-df-convert:hover {\n",
              "      background-color: #434B5C;\n",
              "      box-shadow: 0px 1px 3px 1px rgba(0, 0, 0, 0.15);\n",
              "      filter: drop-shadow(0px 1px 2px rgba(0, 0, 0, 0.3));\n",
              "      fill: #FFFFFF;\n",
              "    }\n",
              "  </style>\n",
              "\n",
              "    <script>\n",
              "      const buttonEl =\n",
              "        document.querySelector('#df-0e37d513-ea59-4c53-af7d-168250e28a5d button.colab-df-convert');\n",
              "      buttonEl.style.display =\n",
              "        google.colab.kernel.accessAllowed ? 'block' : 'none';\n",
              "\n",
              "      async function convertToInteractive(key) {\n",
              "        const element = document.querySelector('#df-0e37d513-ea59-4c53-af7d-168250e28a5d');\n",
              "        const dataTable =\n",
              "          await google.colab.kernel.invokeFunction('convertToInteractive',\n",
              "                                                    [key], {});\n",
              "        if (!dataTable) return;\n",
              "\n",
              "        const docLinkHtml = 'Like what you see? Visit the ' +\n",
              "          '<a target=\"_blank\" href=https://colab.research.google.com/notebooks/data_table.ipynb>data table notebook</a>'\n",
              "          + ' to learn more about interactive tables.';\n",
              "        element.innerHTML = '';\n",
              "        dataTable['output_type'] = 'display_data';\n",
              "        await google.colab.output.renderOutput(dataTable, element);\n",
              "        const docLink = document.createElement('div');\n",
              "        docLink.innerHTML = docLinkHtml;\n",
              "        element.appendChild(docLink);\n",
              "      }\n",
              "    </script>\n",
              "  </div>\n",
              "\n",
              "\n",
              "<div id=\"df-0616d78d-435c-403a-95b0-f35a2e9cfc1b\">\n",
              "  <button class=\"colab-df-quickchart\" onclick=\"quickchart('df-0616d78d-435c-403a-95b0-f35a2e9cfc1b')\"\n",
              "            title=\"Suggest charts\"\n",
              "            style=\"display:none;\">\n",
              "\n",
              "<svg xmlns=\"http://www.w3.org/2000/svg\" height=\"24px\"viewBox=\"0 0 24 24\"\n",
              "     width=\"24px\">\n",
              "    <g>\n",
              "        <path d=\"M19 3H5c-1.1 0-2 .9-2 2v14c0 1.1.9 2 2 2h14c1.1 0 2-.9 2-2V5c0-1.1-.9-2-2-2zM9 17H7v-7h2v7zm4 0h-2V7h2v10zm4 0h-2v-4h2v4z\"/>\n",
              "    </g>\n",
              "</svg>\n",
              "  </button>\n",
              "\n",
              "<style>\n",
              "  .colab-df-quickchart {\n",
              "      --bg-color: #E8F0FE;\n",
              "      --fill-color: #1967D2;\n",
              "      --hover-bg-color: #E2EBFA;\n",
              "      --hover-fill-color: #174EA6;\n",
              "      --disabled-fill-color: #AAA;\n",
              "      --disabled-bg-color: #DDD;\n",
              "  }\n",
              "\n",
              "  [theme=dark] .colab-df-quickchart {\n",
              "      --bg-color: #3B4455;\n",
              "      --fill-color: #D2E3FC;\n",
              "      --hover-bg-color: #434B5C;\n",
              "      --hover-fill-color: #FFFFFF;\n",
              "      --disabled-bg-color: #3B4455;\n",
              "      --disabled-fill-color: #666;\n",
              "  }\n",
              "\n",
              "  .colab-df-quickchart {\n",
              "    background-color: var(--bg-color);\n",
              "    border: none;\n",
              "    border-radius: 50%;\n",
              "    cursor: pointer;\n",
              "    display: none;\n",
              "    fill: var(--fill-color);\n",
              "    height: 32px;\n",
              "    padding: 0;\n",
              "    width: 32px;\n",
              "  }\n",
              "\n",
              "  .colab-df-quickchart:hover {\n",
              "    background-color: var(--hover-bg-color);\n",
              "    box-shadow: 0 1px 2px rgba(60, 64, 67, 0.3), 0 1px 3px 1px rgba(60, 64, 67, 0.15);\n",
              "    fill: var(--button-hover-fill-color);\n",
              "  }\n",
              "\n",
              "  .colab-df-quickchart-complete:disabled,\n",
              "  .colab-df-quickchart-complete:disabled:hover {\n",
              "    background-color: var(--disabled-bg-color);\n",
              "    fill: var(--disabled-fill-color);\n",
              "    box-shadow: none;\n",
              "  }\n",
              "\n",
              "  .colab-df-spinner {\n",
              "    border: 2px solid var(--fill-color);\n",
              "    border-color: transparent;\n",
              "    border-bottom-color: var(--fill-color);\n",
              "    animation:\n",
              "      spin 1s steps(1) infinite;\n",
              "  }\n",
              "\n",
              "  @keyframes spin {\n",
              "    0% {\n",
              "      border-color: transparent;\n",
              "      border-bottom-color: var(--fill-color);\n",
              "      border-left-color: var(--fill-color);\n",
              "    }\n",
              "    20% {\n",
              "      border-color: transparent;\n",
              "      border-left-color: var(--fill-color);\n",
              "      border-top-color: var(--fill-color);\n",
              "    }\n",
              "    30% {\n",
              "      border-color: transparent;\n",
              "      border-left-color: var(--fill-color);\n",
              "      border-top-color: var(--fill-color);\n",
              "      border-right-color: var(--fill-color);\n",
              "    }\n",
              "    40% {\n",
              "      border-color: transparent;\n",
              "      border-right-color: var(--fill-color);\n",
              "      border-top-color: var(--fill-color);\n",
              "    }\n",
              "    60% {\n",
              "      border-color: transparent;\n",
              "      border-right-color: var(--fill-color);\n",
              "    }\n",
              "    80% {\n",
              "      border-color: transparent;\n",
              "      border-right-color: var(--fill-color);\n",
              "      border-bottom-color: var(--fill-color);\n",
              "    }\n",
              "    90% {\n",
              "      border-color: transparent;\n",
              "      border-bottom-color: var(--fill-color);\n",
              "    }\n",
              "  }\n",
              "</style>\n",
              "\n",
              "  <script>\n",
              "    async function quickchart(key) {\n",
              "      const quickchartButtonEl =\n",
              "        document.querySelector('#' + key + ' button');\n",
              "      quickchartButtonEl.disabled = true;  // To prevent multiple clicks.\n",
              "      quickchartButtonEl.classList.add('colab-df-spinner');\n",
              "      try {\n",
              "        const charts = await google.colab.kernel.invokeFunction(\n",
              "            'suggestCharts', [key], {});\n",
              "      } catch (error) {\n",
              "        console.error('Error during call to suggestCharts:', error);\n",
              "      }\n",
              "      quickchartButtonEl.classList.remove('colab-df-spinner');\n",
              "      quickchartButtonEl.classList.add('colab-df-quickchart-complete');\n",
              "    }\n",
              "    (() => {\n",
              "      let quickchartButtonEl =\n",
              "        document.querySelector('#df-0616d78d-435c-403a-95b0-f35a2e9cfc1b button');\n",
              "      quickchartButtonEl.style.display =\n",
              "        google.colab.kernel.accessAllowed ? 'block' : 'none';\n",
              "    })();\n",
              "  </script>\n",
              "</div>\n",
              "    </div>\n",
              "  </div>\n"
            ],
            "application/vnd.google.colaboratory.intrinsic+json": {
              "type": "dataframe",
              "variable_name": "cluster_centers"
            }
          },
          "metadata": {},
          "execution_count": 51
        }
      ]
    },
    {
      "cell_type": "code",
      "source": [
        "plt.figure(figsize=(12, 4.5))\n",
        "ax1 = plt.subplot(121)\n",
        "sns.boxplot(x='cluster',\n",
        "            y='age',\n",
        "            data=X,\n",
        "            ax=ax1)\n",
        "plt.title('Возраст');\n",
        "\n",
        "ax2 = plt.subplot(122)\n",
        "plt.title('Суммарный вклад')\n",
        "sns.boxplot(x='cluster',\n",
        "            y='total_deposits_sum',\n",
        "            data=X,\n",
        "            ax=ax2);"
      ],
      "metadata": {
        "colab": {
          "base_uri": "https://localhost:8080/",
          "height": 367
        },
        "id": "t41rTrYCd5qU",
        "outputId": "b539199a-fc62-4b42-f6ac-e3044dec80e2"
      },
      "execution_count": null,
      "outputs": [
        {
          "output_type": "display_data",
          "data": {
            "text/plain": [
              "<Figure size 1200x450 with 2 Axes>"
            ],
            "image/png": "[encoded data removed]"
          },
          "metadata": {}
        }
      ]
    },
    {
      "cell_type": "code",
      "source": [
        "# распределение сумм вкладов по кластерам. Только клиенты с суммой > 0\n",
        "mask = X[\"total_deposits_sum\"] > 0.\n",
        "\n",
        "\n",
        "print(X.loc[mask].groupby('cluster')[\"total_deposits_sum\"].mean())\n",
        "sns.histplot(x='total_deposits_sum',\n",
        "             hue='cluster',\n",
        "             data=X.loc[mask, :],\n",
        "             bins=20)\n",
        "plt.title('Распределение суммы вкладов*');"
      ],
      "metadata": {
        "colab": {
          "base_uri": "https://localhost:8080/",
          "height": 559
        },
        "id": "ZkGia3Uembm_",
        "outputId": "a1408ff3-2a2d-4603-e839-09f7c5c57462"
      },
      "execution_count": 55,
      "outputs": [
        {
          "output_type": "stream",
          "name": "stdout",
          "text": [
            "cluster\n",
            "0    2.105321e+07\n",
            "1    8.096648e+07\n",
            "2    2.664478e+07\n",
            "Name: total_deposits_sum, dtype: float64\n"
          ]
        },
        {
          "output_type": "display_data",
          "data": {
            "text/plain": [
              "<Figure size 640x480 with 1 Axes>"
            ],
            "image/png": "[encoded data removed]"
          },
          "metadata": {}
        }
      ]
    },
    {
      "cell_type": "code",
      "source": [
        "plt.figure(figsize=(12, 4.5))\n",
        "ax1 = plt.subplot(121)\n",
        "sns.boxplot(x='cluster',\n",
        "            y='num_deposits',\n",
        "            data=df,\n",
        "            ax=ax1)\n",
        "plt.title('# вкладов')\n",
        "\n",
        "ax2 = plt.subplot(122)\n",
        "plt.title('# лет сотрудничества')\n",
        "sns.boxplot(x='cluster',\n",
        "            y='num_years',\n",
        "            data=df,\n",
        "            ax=ax2);"
      ],
      "metadata": {
        "colab": {
          "base_uri": "https://localhost:8080/",
          "height": 366
        },
        "id": "RlI_RLAxezH9",
        "outputId": "02c0d01a-457d-4e95-8adc-c0ddbecb56e2"
      },
      "execution_count": null,
      "outputs": [
        {
          "output_type": "display_data",
          "data": {
            "text/plain": [
              "<Figure size 1200x450 with 2 Axes>"
            ],
            "image/png": "[encoded data removed]"
          },
          "metadata": {}
        }
      ]
    },
    {
      "cell_type": "code",
      "source": [
        "plt.figure(figsize=(12, 4.5))\n",
        "ax1 = plt.subplot(121)\n",
        "sns.countplot(hue='gender',\n",
        "            x='cluster',\n",
        "            data=df,\n",
        "            ax=ax1)\n",
        "plt.title('Распределение по полу');\n",
        "\n",
        "ax2 = plt.subplot(122)\n",
        "sns.countplot(hue='education',\n",
        "            x='cluster',\n",
        "            data=df,\n",
        "            ax=ax2)\n",
        "plt.title('Распределение по образованию');"
      ],
      "metadata": {
        "id": "mvHe0zcCgcbW",
        "colab": {
          "base_uri": "https://localhost:8080/",
          "height": 364
        },
        "outputId": "2db32daf-b221-4a73-b1e8-2429fb3bdec4"
      },
      "execution_count": null,
      "outputs": [
        {
          "output_type": "display_data",
          "data": {
            "text/plain": [
              "<Figure size 1200x450 with 2 Axes>"
            ],
            "image/png": "[encoded data removed]"
          },
          "metadata": {}
        }
      ]
    },
    {
      "cell_type": "markdown",
      "source": [
        "В кластере №0 люди постарше, а в 2-ом - помоложе.\n",
        "\n",
        "В кластере №1 собраны клиенты побогаче, средний вклад ~ 80 млн. рублей, против 5 млн. в остальных. В нем нет клиентов без вкладов (num_deposits_0 = 0), да и клиентов с несколькими депозитами больше.\n"
      ],
      "metadata": {
        "id": "I5OtHR-jUilS"
      }
    },
    {
      "cell_type": "code",
      "source": [],
      "metadata": {
        "id": "3l1mLNE3O4YI"
      },
      "execution_count": null,
      "outputs": []
    },
    {
      "cell_type": "code",
      "source": [],
      "metadata": {
        "id": "wGTRN3H_YJNP"
      },
      "execution_count": null,
      "outputs": []
    }
  ]
}